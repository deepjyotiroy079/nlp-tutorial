{
 "cells": [
  {
   "cell_type": "code",
   "execution_count": 32,
   "id": "b38dde13",
   "metadata": {},
   "outputs": [],
   "source": [
    "from tensorflow.keras.preprocessing.text import one_hot"
   ]
  },
  {
   "cell_type": "code",
   "execution_count": 33,
   "id": "7eb65666",
   "metadata": {},
   "outputs": [],
   "source": [
    "sentences = [\n",
    "    'I love programming in Python',\n",
    "    'Python is great for data science',\n",
    "    'Data science is an exciting field',\n",
    "    'I enjoy learning new technologies',\n",
    "    'Machine learning is a subset of artificial intelligence'\n",
    "]"
   ]
  },
  {
   "cell_type": "code",
   "execution_count": 34,
   "id": "5e9c5c2f",
   "metadata": {},
   "outputs": [
    {
     "data": {
      "text/plain": [
       "[[169, 1678, 6212, 7791, 9141],\n",
       " [9141, 6845, 3276, 992, 74, 4415],\n",
       " [74, 4415, 6845, 9727, 2631, 8761],\n",
       " [169, 8628, 1920, 9488, 3364],\n",
       " [7719, 1920, 6845, 8034, 2168, 1294, 8762, 6982]]"
      ]
     },
     "execution_count": 34,
     "metadata": {},
     "output_type": "execute_result"
    }
   ],
   "source": [
    "# define the vocabulary size\n",
    "vocab_size = 10000\n",
    "\n",
    "# one-hot encode the sentences\n",
    "one_hot_representation = [one_hot(words, vocab_size) for words in sentences]\n",
    "one_hot_representation"
   ]
  },
  {
   "cell_type": "code",
   "execution_count": 35,
   "id": "964ce367",
   "metadata": {},
   "outputs": [],
   "source": [
    "# word embedding representation\n",
    "\n",
    "from tensorflow.keras.layers import Embedding\n",
    "from tensorflow.keras.models import Sequential\n",
    "from tensorflow.keras.preprocessing.sequence import pad_sequences # why is this important?\n",
    "from tensorflow.keras.models import Sequential\n",
    "import numpy as np"
   ]
  },
  {
   "cell_type": "code",
   "execution_count": 36,
   "id": "db297026",
   "metadata": {},
   "outputs": [
    {
     "data": {
      "text/plain": [
       "array([[   0,    0,    0,  169, 1678, 6212, 7791, 9141],\n",
       "       [   0,    0, 9141, 6845, 3276,  992,   74, 4415],\n",
       "       [   0,    0,   74, 4415, 6845, 9727, 2631, 8761],\n",
       "       [   0,    0,    0,  169, 8628, 1920, 9488, 3364],\n",
       "       [7719, 1920, 6845, 8034, 2168, 1294, 8762, 6982]], dtype=int32)"
      ]
     },
     "execution_count": 36,
     "metadata": {},
     "output_type": "execute_result"
    }
   ],
   "source": [
    "## pad_sequences is important to ensure that all sequences have the same length, which is required for training models in Keras.\n",
    "# Example usage of pad_sequences\n",
    "max_length = 8  # maximum length of sequences\n",
    "padded_sequences = pad_sequences(one_hot_representation, maxlen=max_length, padding='pre')\n",
    "padded_sequences         "
   ]
  },
  {
   "cell_type": "code",
   "execution_count": 37,
   "id": "0b69a998",
   "metadata": {},
   "outputs": [],
   "source": [
    "# Feature representation\n",
    "dim = 10 # just use 10 dimensions"
   ]
  },
  {
   "cell_type": "code",
   "execution_count": 38,
   "id": "cbe45a98",
   "metadata": {},
   "outputs": [],
   "source": [
    "model = Sequential([\n",
    "    Embedding(vocab_size, dim, input_length=max_length)\n",
    "])"
   ]
  },
  {
   "cell_type": "code",
   "execution_count": 39,
   "id": "85af7522",
   "metadata": {},
   "outputs": [],
   "source": [
    "model.compile(optimizer='adam', loss='mse')"
   ]
  },
  {
   "cell_type": "code",
   "execution_count": 40,
   "id": "acaa1da9",
   "metadata": {},
   "outputs": [
    {
     "data": {
      "text/html": [
       "<pre style=\"white-space:pre;overflow-x:auto;line-height:normal;font-family:Menlo,'DejaVu Sans Mono',consolas,'Courier New',monospace\"><span style=\"font-weight: bold\">Model: \"sequential_6\"</span>\n",
       "</pre>\n"
      ],
      "text/plain": [
       "\u001b[1mModel: \"sequential_6\"\u001b[0m\n"
      ]
     },
     "metadata": {},
     "output_type": "display_data"
    },
    {
     "data": {
      "text/html": [
       "<pre style=\"white-space:pre;overflow-x:auto;line-height:normal;font-family:Menlo,'DejaVu Sans Mono',consolas,'Courier New',monospace\">┏━━━━━━━━━━━━━━━━━━━━━━━━━━━━━━━━━┳━━━━━━━━━━━━━━━━━━━━━━━━┳━━━━━━━━━━━━━━━┓\n",
       "┃<span style=\"font-weight: bold\"> Layer (type)                    </span>┃<span style=\"font-weight: bold\"> Output Shape           </span>┃<span style=\"font-weight: bold\">       Param # </span>┃\n",
       "┡━━━━━━━━━━━━━━━━━━━━━━━━━━━━━━━━━╇━━━━━━━━━━━━━━━━━━━━━━━━╇━━━━━━━━━━━━━━━┩\n",
       "│ embedding_6 (<span style=\"color: #0087ff; text-decoration-color: #0087ff\">Embedding</span>)         │ ?                      │   <span style=\"color: #00af00; text-decoration-color: #00af00\">0</span> (unbuilt) │\n",
       "└─────────────────────────────────┴────────────────────────┴───────────────┘\n",
       "</pre>\n"
      ],
      "text/plain": [
       "┏━━━━━━━━━━━━━━━━━━━━━━━━━━━━━━━━━┳━━━━━━━━━━━━━━━━━━━━━━━━┳━━━━━━━━━━━━━━━┓\n",
       "┃\u001b[1m \u001b[0m\u001b[1mLayer (type)                   \u001b[0m\u001b[1m \u001b[0m┃\u001b[1m \u001b[0m\u001b[1mOutput Shape          \u001b[0m\u001b[1m \u001b[0m┃\u001b[1m \u001b[0m\u001b[1m      Param #\u001b[0m\u001b[1m \u001b[0m┃\n",
       "┡━━━━━━━━━━━━━━━━━━━━━━━━━━━━━━━━━╇━━━━━━━━━━━━━━━━━━━━━━━━╇━━━━━━━━━━━━━━━┩\n",
       "│ embedding_6 (\u001b[38;5;33mEmbedding\u001b[0m)         │ ?                      │   \u001b[38;5;34m0\u001b[0m (unbuilt) │\n",
       "└─────────────────────────────────┴────────────────────────┴───────────────┘\n"
      ]
     },
     "metadata": {},
     "output_type": "display_data"
    },
    {
     "data": {
      "text/html": [
       "<pre style=\"white-space:pre;overflow-x:auto;line-height:normal;font-family:Menlo,'DejaVu Sans Mono',consolas,'Courier New',monospace\"><span style=\"font-weight: bold\"> Total params: </span><span style=\"color: #00af00; text-decoration-color: #00af00\">0</span> (0.00 B)\n",
       "</pre>\n"
      ],
      "text/plain": [
       "\u001b[1m Total params: \u001b[0m\u001b[38;5;34m0\u001b[0m (0.00 B)\n"
      ]
     },
     "metadata": {},
     "output_type": "display_data"
    },
    {
     "data": {
      "text/html": [
       "<pre style=\"white-space:pre;overflow-x:auto;line-height:normal;font-family:Menlo,'DejaVu Sans Mono',consolas,'Courier New',monospace\"><span style=\"font-weight: bold\"> Trainable params: </span><span style=\"color: #00af00; text-decoration-color: #00af00\">0</span> (0.00 B)\n",
       "</pre>\n"
      ],
      "text/plain": [
       "\u001b[1m Trainable params: \u001b[0m\u001b[38;5;34m0\u001b[0m (0.00 B)\n"
      ]
     },
     "metadata": {},
     "output_type": "display_data"
    },
    {
     "data": {
      "text/html": [
       "<pre style=\"white-space:pre;overflow-x:auto;line-height:normal;font-family:Menlo,'DejaVu Sans Mono',consolas,'Courier New',monospace\"><span style=\"font-weight: bold\"> Non-trainable params: </span><span style=\"color: #00af00; text-decoration-color: #00af00\">0</span> (0.00 B)\n",
       "</pre>\n"
      ],
      "text/plain": [
       "\u001b[1m Non-trainable params: \u001b[0m\u001b[38;5;34m0\u001b[0m (0.00 B)\n"
      ]
     },
     "metadata": {},
     "output_type": "display_data"
    }
   ],
   "source": [
    "model.summary()"
   ]
  },
  {
   "cell_type": "code",
   "execution_count": 41,
   "id": "1afd3123",
   "metadata": {},
   "outputs": [
    {
     "name": "stdout",
     "output_type": "stream",
     "text": [
      "\u001b[1m1/1\u001b[0m \u001b[32m━━━━━━━━━━━━━━━━━━━━\u001b[0m\u001b[37m\u001b[0m \u001b[1m0s\u001b[0m 231ms/step\n"
     ]
    },
    {
     "name": "stderr",
     "output_type": "stream",
     "text": [
      "WARNING: All log messages before absl::InitializeLog() is called are written to STDERR\n",
      "I0000 00:00:1755104911.505735   47694 service.cc:152] XLA service 0x73e55c014a30 initialized for platform CUDA (this does not guarantee that XLA will be used). Devices:\n",
      "I0000 00:00:1755104911.505760   47694 service.cc:160]   StreamExecutor device (0): NVIDIA GeForce RTX 4050 Laptop GPU, Compute Capability 8.9\n",
      "I0000 00:00:1755104911.518242   47694 cuda_dnn.cc:529] Loaded cuDNN version 90300\n",
      "I0000 00:00:1755104911.611681   47694 device_compiler.h:188] Compiled cluster using XLA!  This line is logged at most once for the lifetime of the process.\n"
     ]
    },
    {
     "data": {
      "text/plain": [
       "array([[[-4.62284349e-02,  3.18786167e-02, -8.70460272e-03,\n",
       "         -2.96559222e-02,  3.03281285e-02, -2.65361071e-02,\n",
       "         -2.52858549e-03, -4.62180637e-02, -3.27067859e-02,\n",
       "          4.49255742e-02],\n",
       "        [-4.62284349e-02,  3.18786167e-02, -8.70460272e-03,\n",
       "         -2.96559222e-02,  3.03281285e-02, -2.65361071e-02,\n",
       "         -2.52858549e-03, -4.62180637e-02, -3.27067859e-02,\n",
       "          4.49255742e-02],\n",
       "        [-4.62284349e-02,  3.18786167e-02, -8.70460272e-03,\n",
       "         -2.96559222e-02,  3.03281285e-02, -2.65361071e-02,\n",
       "         -2.52858549e-03, -4.62180637e-02, -3.27067859e-02,\n",
       "          4.49255742e-02],\n",
       "        [-3.32497358e-02,  2.59975903e-02, -4.00717966e-02,\n",
       "          3.32156532e-02,  4.31083143e-04, -3.15752514e-02,\n",
       "         -3.91489379e-02, -2.63337623e-02, -2.17056517e-02,\n",
       "          2.78512500e-02],\n",
       "        [-4.91504744e-03,  4.55655791e-02,  3.26589495e-03,\n",
       "          2.82254480e-02,  2.32023932e-02,  3.86373289e-02,\n",
       "          2.81243436e-02, -2.48710513e-02,  1.71845071e-02,\n",
       "          2.88271904e-03],\n",
       "        [-1.45146847e-02, -2.36577149e-02, -1.07522607e-02,\n",
       "          1.44362785e-02,  3.77903320e-02, -1.28651857e-02,\n",
       "          3.24712135e-02,  4.76049446e-02, -2.27538943e-02,\n",
       "          8.92968103e-03],\n",
       "        [-4.92779985e-02,  2.22303718e-03,  6.56975433e-03,\n",
       "          3.10309976e-03, -3.01057100e-03,  1.48070976e-03,\n",
       "         -8.32305104e-03, -4.11715358e-03, -1.19928010e-02,\n",
       "         -3.28499451e-02],\n",
       "        [-3.80723700e-02, -7.90581107e-05, -2.61519309e-02,\n",
       "         -1.02160685e-02, -2.49841455e-02,  3.10693718e-02,\n",
       "         -4.97710593e-02,  3.15284245e-02, -2.81104203e-02,\n",
       "         -2.91596651e-02]],\n",
       "\n",
       "       [[-4.62284349e-02,  3.18786167e-02, -8.70460272e-03,\n",
       "         -2.96559222e-02,  3.03281285e-02, -2.65361071e-02,\n",
       "         -2.52858549e-03, -4.62180637e-02, -3.27067859e-02,\n",
       "          4.49255742e-02],\n",
       "        [-4.62284349e-02,  3.18786167e-02, -8.70460272e-03,\n",
       "         -2.96559222e-02,  3.03281285e-02, -2.65361071e-02,\n",
       "         -2.52858549e-03, -4.62180637e-02, -3.27067859e-02,\n",
       "          4.49255742e-02],\n",
       "        [-3.80723700e-02, -7.90581107e-05, -2.61519309e-02,\n",
       "         -1.02160685e-02, -2.49841455e-02,  3.10693718e-02,\n",
       "         -4.97710593e-02,  3.15284245e-02, -2.81104203e-02,\n",
       "         -2.91596651e-02],\n",
       "        [-3.34443450e-02,  4.39281724e-02,  2.35150009e-03,\n",
       "          3.84126417e-02,  1.59265846e-03, -3.95137891e-02,\n",
       "         -4.36921492e-02, -2.45000720e-02,  2.83693559e-02,\n",
       "          3.32740806e-02],\n",
       "        [-3.69791761e-02,  1.47866644e-02, -4.07248624e-02,\n",
       "         -4.07363549e-02, -4.84766811e-03,  9.78019089e-03,\n",
       "         -1.68875940e-02,  4.18744721e-02, -4.92234603e-02,\n",
       "          9.42181796e-04],\n",
       "        [ 2.01683976e-02, -2.43878849e-02,  2.66302936e-02,\n",
       "         -4.76377271e-02,  1.82788260e-02,  2.14419402e-02,\n",
       "          7.02548772e-04, -2.47102976e-03, -1.47765391e-02,\n",
       "          3.71060111e-02],\n",
       "        [ 7.59533793e-03,  3.06428596e-03,  1.86130516e-02,\n",
       "         -3.15107405e-04,  4.70473431e-02,  2.17219479e-02,\n",
       "          6.75274059e-03, -1.12073496e-03,  2.37122923e-03,\n",
       "          3.03325802e-03],\n",
       "        [-2.04249378e-02, -8.48983601e-03, -2.35712659e-02,\n",
       "         -3.01971436e-02,  3.08157541e-02,  4.46634777e-02,\n",
       "         -1.23696215e-02, -2.61859782e-02, -3.75294685e-02,\n",
       "          3.18060853e-02]],\n",
       "\n",
       "       [[-4.62284349e-02,  3.18786167e-02, -8.70460272e-03,\n",
       "         -2.96559222e-02,  3.03281285e-02, -2.65361071e-02,\n",
       "         -2.52858549e-03, -4.62180637e-02, -3.27067859e-02,\n",
       "          4.49255742e-02],\n",
       "        [-4.62284349e-02,  3.18786167e-02, -8.70460272e-03,\n",
       "         -2.96559222e-02,  3.03281285e-02, -2.65361071e-02,\n",
       "         -2.52858549e-03, -4.62180637e-02, -3.27067859e-02,\n",
       "          4.49255742e-02],\n",
       "        [ 7.59533793e-03,  3.06428596e-03,  1.86130516e-02,\n",
       "         -3.15107405e-04,  4.70473431e-02,  2.17219479e-02,\n",
       "          6.75274059e-03, -1.12073496e-03,  2.37122923e-03,\n",
       "          3.03325802e-03],\n",
       "        [-2.04249378e-02, -8.48983601e-03, -2.35712659e-02,\n",
       "         -3.01971436e-02,  3.08157541e-02,  4.46634777e-02,\n",
       "         -1.23696215e-02, -2.61859782e-02, -3.75294685e-02,\n",
       "          3.18060853e-02],\n",
       "        [-3.34443450e-02,  4.39281724e-02,  2.35150009e-03,\n",
       "          3.84126417e-02,  1.59265846e-03, -3.95137891e-02,\n",
       "         -4.36921492e-02, -2.45000720e-02,  2.83693559e-02,\n",
       "          3.32740806e-02],\n",
       "        [-2.87363678e-03,  3.20715047e-02,  4.47043516e-02,\n",
       "         -3.32002267e-02, -1.57998428e-02,  2.67835744e-02,\n",
       "          4.84168530e-04, -3.86452675e-03,  3.82584818e-02,\n",
       "         -7.46555254e-03],\n",
       "        [ 3.63034494e-02,  1.36663429e-02,  9.38979536e-03,\n",
       "         -8.52763653e-03, -4.55900095e-02, -4.53705676e-02,\n",
       "         -2.29225308e-03, -3.32623720e-02, -7.10548088e-03,\n",
       "         -2.89672501e-02],\n",
       "        [-3.93129587e-02,  3.57223786e-02,  1.70674361e-02,\n",
       "          3.02909054e-02,  2.08811052e-02,  5.89350611e-03,\n",
       "         -2.62427330e-03,  1.14249215e-02, -4.51351330e-03,\n",
       "          5.49070910e-03]],\n",
       "\n",
       "       [[-4.62284349e-02,  3.18786167e-02, -8.70460272e-03,\n",
       "         -2.96559222e-02,  3.03281285e-02, -2.65361071e-02,\n",
       "         -2.52858549e-03, -4.62180637e-02, -3.27067859e-02,\n",
       "          4.49255742e-02],\n",
       "        [-4.62284349e-02,  3.18786167e-02, -8.70460272e-03,\n",
       "         -2.96559222e-02,  3.03281285e-02, -2.65361071e-02,\n",
       "         -2.52858549e-03, -4.62180637e-02, -3.27067859e-02,\n",
       "          4.49255742e-02],\n",
       "        [-4.62284349e-02,  3.18786167e-02, -8.70460272e-03,\n",
       "         -2.96559222e-02,  3.03281285e-02, -2.65361071e-02,\n",
       "         -2.52858549e-03, -4.62180637e-02, -3.27067859e-02,\n",
       "          4.49255742e-02],\n",
       "        [-3.32497358e-02,  2.59975903e-02, -4.00717966e-02,\n",
       "          3.32156532e-02,  4.31083143e-04, -3.15752514e-02,\n",
       "         -3.91489379e-02, -2.63337623e-02, -2.17056517e-02,\n",
       "          2.78512500e-02],\n",
       "        [ 1.61644071e-03,  4.60542701e-02, -4.97230142e-03,\n",
       "         -6.04284927e-03, -3.24280038e-02, -2.85822395e-02,\n",
       "         -4.48747724e-03, -3.04229185e-03, -4.29235473e-02,\n",
       "          3.76393907e-02],\n",
       "        [-7.15171173e-03, -1.98815595e-02, -3.66001949e-02,\n",
       "          4.16786782e-02, -2.16288809e-02,  2.53976025e-02,\n",
       "         -3.13408375e-02, -3.93550172e-02,  1.78254768e-03,\n",
       "          4.15870287e-02],\n",
       "        [ 1.38166212e-02, -2.93749217e-02,  4.41711061e-02,\n",
       "          2.40411200e-02,  4.55493219e-02,  1.89889595e-03,\n",
       "         -3.35567370e-02,  2.46744491e-02, -1.04144104e-02,\n",
       "         -3.45519669e-02],\n",
       "        [-1.26670115e-02,  4.13468368e-02,  2.42269747e-02,\n",
       "         -3.84410471e-03, -3.01100146e-02,  1.53398179e-02,\n",
       "          2.28501856e-04,  3.75648998e-02,  3.30257155e-02,\n",
       "          2.86081322e-02]],\n",
       "\n",
       "       [[ 9.97277349e-03,  3.37749608e-02, -8.66665691e-03,\n",
       "          3.02300714e-02, -3.08283214e-02,  3.96590121e-02,\n",
       "          4.70836051e-02, -4.14549224e-02, -2.96142232e-02,\n",
       "          4.72741984e-02],\n",
       "        [-7.15171173e-03, -1.98815595e-02, -3.66001949e-02,\n",
       "          4.16786782e-02, -2.16288809e-02,  2.53976025e-02,\n",
       "         -3.13408375e-02, -3.93550172e-02,  1.78254768e-03,\n",
       "          4.15870287e-02],\n",
       "        [-3.34443450e-02,  4.39281724e-02,  2.35150009e-03,\n",
       "          3.84126417e-02,  1.59265846e-03, -3.95137891e-02,\n",
       "         -4.36921492e-02, -2.45000720e-02,  2.83693559e-02,\n",
       "          3.32740806e-02],\n",
       "        [-2.17717290e-02, -2.86760218e-02,  4.17462736e-03,\n",
       "          2.45861299e-02, -2.29767207e-02, -2.44654771e-02,\n",
       "          3.80064175e-03, -3.05132158e-02, -2.71144863e-02,\n",
       "          4.99569885e-02],\n",
       "        [-2.37589721e-02,  4.78414930e-02,  2.47066729e-02,\n",
       "          3.76046412e-02, -1.96633693e-02,  4.44980003e-02,\n",
       "          1.71655156e-02,  4.48364504e-02,  3.09260376e-02,\n",
       "         -3.66060622e-02],\n",
       "        [-4.86725345e-02,  7.39536434e-03, -4.48833816e-02,\n",
       "          1.89868547e-02, -4.07682434e-02, -4.94349375e-02,\n",
       "         -1.09422691e-02, -3.70027646e-02,  7.64546543e-03,\n",
       "          2.47803964e-02],\n",
       "        [-3.56514826e-02, -4.54781428e-02, -4.91165407e-02,\n",
       "          4.71579544e-02,  2.98243761e-03, -3.45471390e-02,\n",
       "         -4.50088978e-02,  3.05899270e-02, -2.58509405e-02,\n",
       "         -3.59558463e-02],\n",
       "        [-4.22982685e-02, -4.74617630e-03,  1.72693394e-02,\n",
       "         -3.02066691e-02, -4.59136963e-02, -1.85294859e-02,\n",
       "         -2.82760262e-02,  4.55517881e-02,  2.78025530e-02,\n",
       "          3.21419872e-02]]], dtype=float32)"
      ]
     },
     "execution_count": 41,
     "metadata": {},
     "output_type": "execute_result"
    }
   ],
   "source": [
    "model.predict(padded_sequences)"
   ]
  },
  {
   "cell_type": "code",
   "execution_count": null,
   "id": "4a885bc1",
   "metadata": {},
   "outputs": [
    {
     "name": "stderr",
     "output_type": "stream",
     "text": [
      "/home/bionic/code/nlp-tutorial/env/lib/python3.12/site-packages/keras/src/models/functional.py:241: UserWarning: The structure of `inputs` doesn't match the expected structure.\n",
      "Expected: keras_tensor\n",
      "Received: inputs=('Tensor(shape=(8,))',)\n",
      "  warnings.warn(msg)\n"
     ]
    },
    {
     "ename": "ValueError",
     "evalue": "Exception encountered when calling Sequential.call().\n\n\u001b[1mInvalid input shape for input Tensor(\"sequential_6_1/Cast:0\", shape=(8,), dtype=float32). Expected shape (5, 8), but input has incompatible shape (8,)\u001b[0m\n\nArguments received by Sequential.call():\n  • inputs=('tf.Tensor(shape=(8,), dtype=int32)',)\n  • training=False\n  • mask=('None',)\n  • kwargs=<class 'inspect._empty'>",
     "output_type": "error",
     "traceback": [
      "\u001b[31m---------------------------------------------------------------------------\u001b[39m",
      "\u001b[31mValueError\u001b[39m                                Traceback (most recent call last)",
      "\u001b[36mCell\u001b[39m\u001b[36m \u001b[39m\u001b[32mIn[46]\u001b[39m\u001b[32m, line 1\u001b[39m\n\u001b[32m----> \u001b[39m\u001b[32m1\u001b[39m \u001b[43mmodel\u001b[49m\u001b[43m.\u001b[49m\u001b[43mpredict\u001b[49m\u001b[43m(\u001b[49m\u001b[43m[\u001b[49m\u001b[43mpadded_sequences\u001b[49m\u001b[43m[\u001b[49m\u001b[32;43m0\u001b[39;49m\u001b[43m]\u001b[49m\u001b[43m]\u001b[49m\u001b[43m)\u001b[49m\n",
      "\u001b[36mFile \u001b[39m\u001b[32m~/code/nlp-tutorial/env/lib/python3.12/site-packages/keras/src/utils/traceback_utils.py:122\u001b[39m, in \u001b[36mfilter_traceback.<locals>.error_handler\u001b[39m\u001b[34m(*args, **kwargs)\u001b[39m\n\u001b[32m    119\u001b[39m     filtered_tb = _process_traceback_frames(e.__traceback__)\n\u001b[32m    120\u001b[39m     \u001b[38;5;66;03m# To get the full stack trace, call:\u001b[39;00m\n\u001b[32m    121\u001b[39m     \u001b[38;5;66;03m# `keras.config.disable_traceback_filtering()`\u001b[39;00m\n\u001b[32m--> \u001b[39m\u001b[32m122\u001b[39m     \u001b[38;5;28;01mraise\u001b[39;00m e.with_traceback(filtered_tb) \u001b[38;5;28;01mfrom\u001b[39;00m\u001b[38;5;250m \u001b[39m\u001b[38;5;28;01mNone\u001b[39;00m\n\u001b[32m    123\u001b[39m \u001b[38;5;28;01mfinally\u001b[39;00m:\n\u001b[32m    124\u001b[39m     \u001b[38;5;28;01mdel\u001b[39;00m filtered_tb\n",
      "\u001b[36mFile \u001b[39m\u001b[32m~/code/nlp-tutorial/env/lib/python3.12/site-packages/keras/src/models/functional.py:276\u001b[39m, in \u001b[36mFunctional._adjust_input_rank\u001b[39m\u001b[34m(self, flat_inputs)\u001b[39m\n\u001b[32m    274\u001b[39m             adjusted.append(ops.expand_dims(x, axis=-\u001b[32m1\u001b[39m))\n\u001b[32m    275\u001b[39m             \u001b[38;5;28;01mcontinue\u001b[39;00m\n\u001b[32m--> \u001b[39m\u001b[32m276\u001b[39m     \u001b[38;5;28;01mraise\u001b[39;00m \u001b[38;5;167;01mValueError\u001b[39;00m(\n\u001b[32m    277\u001b[39m         \u001b[33mf\u001b[39m\u001b[33m\"\u001b[39m\u001b[33mInvalid input shape for input \u001b[39m\u001b[38;5;132;01m{\u001b[39;00mx\u001b[38;5;132;01m}\u001b[39;00m\u001b[33m. Expected shape \u001b[39m\u001b[33m\"\u001b[39m\n\u001b[32m    278\u001b[39m         \u001b[33mf\u001b[39m\u001b[33m\"\u001b[39m\u001b[38;5;132;01m{\u001b[39;00mref_shape\u001b[38;5;132;01m}\u001b[39;00m\u001b[33m, but input has incompatible shape \u001b[39m\u001b[38;5;132;01m{\u001b[39;00mx.shape\u001b[38;5;132;01m}\u001b[39;00m\u001b[33m\"\u001b[39m\n\u001b[32m    279\u001b[39m     )\n\u001b[32m    280\u001b[39m \u001b[38;5;66;03m# Add back metadata.\u001b[39;00m\n\u001b[32m    281\u001b[39m \u001b[38;5;28;01mfor\u001b[39;00m i \u001b[38;5;129;01min\u001b[39;00m \u001b[38;5;28mrange\u001b[39m(\u001b[38;5;28mlen\u001b[39m(flat_inputs)):\n",
      "\u001b[31mValueError\u001b[39m: Exception encountered when calling Sequential.call().\n\n\u001b[1mInvalid input shape for input Tensor(\"sequential_6_1/Cast:0\", shape=(8,), dtype=float32). Expected shape (5, 8), but input has incompatible shape (8,)\u001b[0m\n\nArguments received by Sequential.call():\n  • inputs=('tf.Tensor(shape=(8,), dtype=int32)',)\n  • training=False\n  • mask=('None',)\n  • kwargs=<class 'inspect._empty'>"
     ]
    }
   ],
   "source": []
  },
  {
   "cell_type": "code",
   "execution_count": null,
   "id": "045e731a",
   "metadata": {},
   "outputs": [],
   "source": []
  }
 ],
 "metadata": {
  "kernelspec": {
   "display_name": "env",
   "language": "python",
   "name": "python3"
  },
  "language_info": {
   "codemirror_mode": {
    "name": "ipython",
    "version": 3
   },
   "file_extension": ".py",
   "mimetype": "text/x-python",
   "name": "python",
   "nbconvert_exporter": "python",
   "pygments_lexer": "ipython3",
   "version": "3.12.3"
  }
 },
 "nbformat": 4,
 "nbformat_minor": 5
}
