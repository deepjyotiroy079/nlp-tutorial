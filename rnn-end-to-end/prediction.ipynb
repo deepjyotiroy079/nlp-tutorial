{
 "cells": [
  {
   "cell_type": "code",
   "execution_count": 3,
   "id": "54e4f1f1",
   "metadata": {},
   "outputs": [],
   "source": [
    "import numpy as np\n",
    "import tensorflow as tf\n",
    "from tensorflow.keras.models import Sequential, load_model\n",
    "from tensorflow.keras.layers import Embedding, SimpleRNN, Dense, Input\n",
    "from tensorflow.keras.callbacks import EarlyStopping\n",
    "from tensorflow.keras.datasets import imdb\n",
    "from tensorflow.keras.preprocessing.sequence import pad_sequences"
   ]
  },
  {
   "cell_type": "code",
   "execution_count": 2,
   "id": "72739ba1",
   "metadata": {},
   "outputs": [],
   "source": [
    "# load the word index\n",
    "word_index = imdb.get_word_index()\n",
    "reverse_word_index = {value: key for (key, value) in word_index.items()}"
   ]
  },
  {
   "cell_type": "code",
   "execution_count": 4,
   "id": "c5d53745",
   "metadata": {},
   "outputs": [
    {
     "name": "stderr",
     "output_type": "stream",
     "text": [
      "I0000 00:00:1755186469.749841   15157 gpu_device.cc:2019] Created device /job:localhost/replica:0/task:0/device:GPU:0 with 4130 MB memory:  -> device: 0, name: NVIDIA GeForce RTX 4050 Laptop GPU, pci bus id: 0000:01:00.0, compute capability: 8.9\n",
      "WARNING:absl:Compiled the loaded model, but the compiled metrics have yet to be built. `model.compile_metrics` will be empty until you train or evaluate the model.\n"
     ]
    },
    {
     "data": {
      "text/html": [
       "<pre style=\"white-space:pre;overflow-x:auto;line-height:normal;font-family:Menlo,'DejaVu Sans Mono',consolas,'Courier New',monospace\"><span style=\"font-weight: bold\">Model: \"sequential_4\"</span>\n",
       "</pre>\n"
      ],
      "text/plain": [
       "\u001b[1mModel: \"sequential_4\"\u001b[0m\n"
      ]
     },
     "metadata": {},
     "output_type": "display_data"
    },
    {
     "data": {
      "text/html": [
       "<pre style=\"white-space:pre;overflow-x:auto;line-height:normal;font-family:Menlo,'DejaVu Sans Mono',consolas,'Courier New',monospace\">┏━━━━━━━━━━━━━━━━━━━━━━━━━━━━━━━━━┳━━━━━━━━━━━━━━━━━━━━━━━━┳━━━━━━━━━━━━━━━┓\n",
       "┃<span style=\"font-weight: bold\"> Layer (type)                    </span>┃<span style=\"font-weight: bold\"> Output Shape           </span>┃<span style=\"font-weight: bold\">       Param # </span>┃\n",
       "┡━━━━━━━━━━━━━━━━━━━━━━━━━━━━━━━━━╇━━━━━━━━━━━━━━━━━━━━━━━━╇━━━━━━━━━━━━━━━┩\n",
       "│ embedding_3 (<span style=\"color: #0087ff; text-decoration-color: #0087ff\">Embedding</span>)         │ (<span style=\"color: #00d7ff; text-decoration-color: #00d7ff\">None</span>, <span style=\"color: #00af00; text-decoration-color: #00af00\">200</span>, <span style=\"color: #00af00; text-decoration-color: #00af00\">128</span>)       │     <span style=\"color: #00af00; text-decoration-color: #00af00\">1,280,000</span> │\n",
       "├─────────────────────────────────┼────────────────────────┼───────────────┤\n",
       "│ simple_rnn_3 (<span style=\"color: #0087ff; text-decoration-color: #0087ff\">SimpleRNN</span>)        │ (<span style=\"color: #00d7ff; text-decoration-color: #00d7ff\">None</span>, <span style=\"color: #00af00; text-decoration-color: #00af00\">128</span>)            │        <span style=\"color: #00af00; text-decoration-color: #00af00\">32,896</span> │\n",
       "├─────────────────────────────────┼────────────────────────┼───────────────┤\n",
       "│ dense_3 (<span style=\"color: #0087ff; text-decoration-color: #0087ff\">Dense</span>)                 │ (<span style=\"color: #00d7ff; text-decoration-color: #00d7ff\">None</span>, <span style=\"color: #00af00; text-decoration-color: #00af00\">1</span>)              │           <span style=\"color: #00af00; text-decoration-color: #00af00\">129</span> │\n",
       "└─────────────────────────────────┴────────────────────────┴───────────────┘\n",
       "</pre>\n"
      ],
      "text/plain": [
       "┏━━━━━━━━━━━━━━━━━━━━━━━━━━━━━━━━━┳━━━━━━━━━━━━━━━━━━━━━━━━┳━━━━━━━━━━━━━━━┓\n",
       "┃\u001b[1m \u001b[0m\u001b[1mLayer (type)                   \u001b[0m\u001b[1m \u001b[0m┃\u001b[1m \u001b[0m\u001b[1mOutput Shape          \u001b[0m\u001b[1m \u001b[0m┃\u001b[1m \u001b[0m\u001b[1m      Param #\u001b[0m\u001b[1m \u001b[0m┃\n",
       "┡━━━━━━━━━━━━━━━━━━━━━━━━━━━━━━━━━╇━━━━━━━━━━━━━━━━━━━━━━━━╇━━━━━━━━━━━━━━━┩\n",
       "│ embedding_3 (\u001b[38;5;33mEmbedding\u001b[0m)         │ (\u001b[38;5;45mNone\u001b[0m, \u001b[38;5;34m200\u001b[0m, \u001b[38;5;34m128\u001b[0m)       │     \u001b[38;5;34m1,280,000\u001b[0m │\n",
       "├─────────────────────────────────┼────────────────────────┼───────────────┤\n",
       "│ simple_rnn_3 (\u001b[38;5;33mSimpleRNN\u001b[0m)        │ (\u001b[38;5;45mNone\u001b[0m, \u001b[38;5;34m128\u001b[0m)            │        \u001b[38;5;34m32,896\u001b[0m │\n",
       "├─────────────────────────────────┼────────────────────────┼───────────────┤\n",
       "│ dense_3 (\u001b[38;5;33mDense\u001b[0m)                 │ (\u001b[38;5;45mNone\u001b[0m, \u001b[38;5;34m1\u001b[0m)              │           \u001b[38;5;34m129\u001b[0m │\n",
       "└─────────────────────────────────┴────────────────────────┴───────────────┘\n"
      ]
     },
     "metadata": {},
     "output_type": "display_data"
    },
    {
     "data": {
      "text/html": [
       "<pre style=\"white-space:pre;overflow-x:auto;line-height:normal;font-family:Menlo,'DejaVu Sans Mono',consolas,'Courier New',monospace\"><span style=\"font-weight: bold\"> Total params: </span><span style=\"color: #00af00; text-decoration-color: #00af00\">1,313,027</span> (5.01 MB)\n",
       "</pre>\n"
      ],
      "text/plain": [
       "\u001b[1m Total params: \u001b[0m\u001b[38;5;34m1,313,027\u001b[0m (5.01 MB)\n"
      ]
     },
     "metadata": {},
     "output_type": "display_data"
    },
    {
     "data": {
      "text/html": [
       "<pre style=\"white-space:pre;overflow-x:auto;line-height:normal;font-family:Menlo,'DejaVu Sans Mono',consolas,'Courier New',monospace\"><span style=\"font-weight: bold\"> Trainable params: </span><span style=\"color: #00af00; text-decoration-color: #00af00\">1,313,025</span> (5.01 MB)\n",
       "</pre>\n"
      ],
      "text/plain": [
       "\u001b[1m Trainable params: \u001b[0m\u001b[38;5;34m1,313,025\u001b[0m (5.01 MB)\n"
      ]
     },
     "metadata": {},
     "output_type": "display_data"
    },
    {
     "data": {
      "text/html": [
       "<pre style=\"white-space:pre;overflow-x:auto;line-height:normal;font-family:Menlo,'DejaVu Sans Mono',consolas,'Courier New',monospace\"><span style=\"font-weight: bold\"> Non-trainable params: </span><span style=\"color: #00af00; text-decoration-color: #00af00\">0</span> (0.00 B)\n",
       "</pre>\n"
      ],
      "text/plain": [
       "\u001b[1m Non-trainable params: \u001b[0m\u001b[38;5;34m0\u001b[0m (0.00 B)\n"
      ]
     },
     "metadata": {},
     "output_type": "display_data"
    },
    {
     "data": {
      "text/html": [
       "<pre style=\"white-space:pre;overflow-x:auto;line-height:normal;font-family:Menlo,'DejaVu Sans Mono',consolas,'Courier New',monospace\"><span style=\"font-weight: bold\"> Optimizer params: </span><span style=\"color: #00af00; text-decoration-color: #00af00\">2</span> (12.00 B)\n",
       "</pre>\n"
      ],
      "text/plain": [
       "\u001b[1m Optimizer params: \u001b[0m\u001b[38;5;34m2\u001b[0m (12.00 B)\n"
      ]
     },
     "metadata": {},
     "output_type": "display_data"
    }
   ],
   "source": [
    "# load the model\n",
    "model = load_model('movie_review_rnn.h5')\n",
    "model.summary()"
   ]
  },
  {
   "cell_type": "code",
   "execution_count": 6,
   "id": "957e4b21",
   "metadata": {},
   "outputs": [
    {
     "data": {
      "text/plain": [
       "[array([[ 0.8594249 , -1.1362894 ,  0.32185364, ...,  0.18565153,\n",
       "         -1.0180556 ,  0.23133054],\n",
       "        [ 0.00426091, -0.09027755, -0.07101918, ..., -0.02946495,\n",
       "         -0.09374371,  0.02039738],\n",
       "        [ 0.03538838, -0.00863678, -0.0482873 , ..., -0.08056757,\n",
       "         -0.06635261,  0.02657271],\n",
       "        ...,\n",
       "        [-0.01248252,  0.03080965,  0.02479442, ...,  0.01879758,\n",
       "         -0.03018146,  0.05288426],\n",
       "        [-0.00743155, -0.08088707,  0.01399047, ...,  0.00777753,\n",
       "         -0.03591529, -0.02360426],\n",
       "        [ 0.00756429,  0.12324505, -0.12510961, ..., -0.10854445,\n",
       "          0.06542061, -0.11452803]], dtype=float32),\n",
       " array([[ 0.04273584, -0.14987533,  0.02558673, ...,  0.15846935,\n",
       "         -0.05962821, -0.06210829],\n",
       "        [ 0.0966327 ,  0.0634374 ,  0.13998857, ..., -0.00943441,\n",
       "         -0.10166015,  0.0582308 ],\n",
       "        [-0.01666402,  0.12396719,  0.07381713, ..., -0.10640197,\n",
       "          0.1361034 ,  0.13081545],\n",
       "        ...,\n",
       "        [-0.13217676,  0.11628962, -0.04653246, ...,  0.11369807,\n",
       "          0.01287927, -0.18554698],\n",
       "        [ 0.11480317, -0.07985415, -0.07533317, ...,  0.12328933,\n",
       "          0.07680064,  0.05418262],\n",
       "        [-0.12094944,  0.19743934,  0.08918443, ...,  0.00714019,\n",
       "         -0.05736907, -0.02832083]], dtype=float32),\n",
       " array([[ 0.09562627, -0.05045741, -0.01044264, ...,  0.03788612,\n",
       "         -0.05979241,  0.06602196],\n",
       "        [ 0.2214311 , -0.12248343,  0.04575348, ...,  0.05071818,\n",
       "          0.05088149,  0.14428233],\n",
       "        [ 0.13503079,  0.18457635, -0.03429491, ..., -0.09732913,\n",
       "          0.00660609,  0.12331182],\n",
       "        ...,\n",
       "        [ 0.11922892,  0.07591417, -0.0528425 , ..., -0.06694087,\n",
       "          0.04896108, -0.0264725 ],\n",
       "        [ 0.139101  ,  0.06855651,  0.04411272, ...,  0.04979356,\n",
       "          0.00954105,  0.00147714],\n",
       "        [ 0.0943867 ,  0.06653246, -0.17186154, ..., -0.16928111,\n",
       "         -0.012665  , -0.02376842]], dtype=float32),\n",
       " array([ 0.00658327, -0.00620052, -0.03701469, -0.05357883,  0.00414124,\n",
       "         0.02818046,  0.00456269,  0.0079343 , -0.02126282,  0.0175836 ,\n",
       "        -0.02486242, -0.00066751, -0.00437222, -0.02519847, -0.01358262,\n",
       "        -0.04189315,  0.00263028, -0.02537568, -0.04847723, -0.00160652,\n",
       "        -0.0386184 , -0.00834762, -0.01259492, -0.03411047, -0.03386185,\n",
       "        -0.03066797,  0.05805017,  0.00485661, -0.01007841, -0.01909345,\n",
       "        -0.04178789,  0.01221877,  0.00106287,  0.01254056,  0.01735514,\n",
       "         0.00878838, -0.03060172, -0.00083498, -0.0632248 ,  0.12783657,\n",
       "         0.02739491,  0.02916544, -0.04023371, -0.03979566, -0.04300273,\n",
       "        -0.02115311, -0.01224375,  0.04500569, -0.03912225,  0.0086184 ,\n",
       "        -0.02839274,  0.03747666, -0.02303583, -0.00670116,  0.02034566,\n",
       "        -0.01751477, -0.00148001, -0.04038836, -0.01672066,  0.00494071,\n",
       "         0.01790014,  0.0572162 , -0.01162546,  0.02072085,  0.02120781,\n",
       "        -0.01225599,  0.00899726, -0.02215444, -0.03916065,  0.00351182,\n",
       "        -0.03632711, -0.02885073, -0.03924799, -0.00996756,  0.03222255,\n",
       "         0.00905405,  0.04184008,  0.04692165,  0.01336507,  0.03900589,\n",
       "        -0.00432213, -0.02282621,  0.00238952, -0.07915913,  0.0283304 ,\n",
       "         0.0064003 , -0.01981925, -0.01528774, -0.01609328,  0.02395757,\n",
       "        -0.01682267,  0.02542771,  0.03733515,  0.01870582,  0.00784776,\n",
       "         0.03915562,  0.00805355,  0.01588937,  0.00436474, -0.03229034,\n",
       "         0.00067533, -0.01148966, -0.04805701,  0.00479893, -0.06128535,\n",
       "         0.02201346, -0.01217828,  0.01839844, -0.01567934,  0.01654467,\n",
       "         0.03831645,  0.01934879,  0.01381283, -0.03642364, -0.03686177,\n",
       "         0.00762626, -0.02649307, -0.00679499,  0.01088501, -0.04132625,\n",
       "         0.00381956, -0.05017589, -0.01516373, -0.02179161,  0.00843209,\n",
       "        -0.0104765 ,  0.01467676,  0.04147102], dtype=float32),\n",
       " array([[-0.02275341],\n",
       "        [-0.20660554],\n",
       "        [-0.02235107],\n",
       "        [-0.26226175],\n",
       "        [-0.14612214],\n",
       "        [-0.16584572],\n",
       "        [-0.05291141],\n",
       "        [-0.20397288],\n",
       "        [-0.22329828],\n",
       "        [ 0.03741648],\n",
       "        [ 0.1659309 ],\n",
       "        [ 0.09924978],\n",
       "        [-0.01601451],\n",
       "        [ 0.11704353],\n",
       "        [ 0.10577826],\n",
       "        [-0.14326957],\n",
       "        [ 0.06959201],\n",
       "        [-0.14918369],\n",
       "        [-0.4180976 ],\n",
       "        [-0.02738687],\n",
       "        [ 0.08401939],\n",
       "        [ 0.30257985],\n",
       "        [ 0.00861307],\n",
       "        [ 0.05070533],\n",
       "        [ 0.03081235],\n",
       "        [-0.23072642],\n",
       "        [-0.11878815],\n",
       "        [-0.14481848],\n",
       "        [-0.26145747],\n",
       "        [-0.3191278 ],\n",
       "        [-0.12765163],\n",
       "        [ 0.06633174],\n",
       "        [-0.06239777],\n",
       "        [ 0.10430229],\n",
       "        [ 0.08152676],\n",
       "        [-0.28039056],\n",
       "        [-0.22715198],\n",
       "        [ 0.16416259],\n",
       "        [ 0.01045725],\n",
       "        [-0.08124694],\n",
       "        [-0.12960562],\n",
       "        [ 0.06751249],\n",
       "        [-0.1365978 ],\n",
       "        [-0.22786586],\n",
       "        [ 0.0334044 ],\n",
       "        [-0.26153582],\n",
       "        [-0.10943037],\n",
       "        [-0.1111357 ],\n",
       "        [ 0.20653921],\n",
       "        [-0.21960796],\n",
       "        [ 0.04505688],\n",
       "        [ 0.03031412],\n",
       "        [ 0.06241781],\n",
       "        [ 0.15899709],\n",
       "        [ 0.16351657],\n",
       "        [-0.14710914],\n",
       "        [ 0.07369114],\n",
       "        [-0.14640374],\n",
       "        [-0.27954212],\n",
       "        [ 0.13027057],\n",
       "        [ 0.137467  ],\n",
       "        [ 0.11356555],\n",
       "        [-0.05271097],\n",
       "        [ 0.07964959],\n",
       "        [ 0.24965866],\n",
       "        [-0.10026608],\n",
       "        [-0.09367943],\n",
       "        [-0.1566364 ],\n",
       "        [-0.21864851],\n",
       "        [ 0.01011796],\n",
       "        [-0.27001026],\n",
       "        [ 0.11066317],\n",
       "        [-0.19387834],\n",
       "        [ 0.09598752],\n",
       "        [ 0.109206  ],\n",
       "        [-0.0878064 ],\n",
       "        [-0.09210132],\n",
       "        [-0.13064948],\n",
       "        [ 0.31183425],\n",
       "        [-0.24543343],\n",
       "        [-0.09231782],\n",
       "        [ 0.15122895],\n",
       "        [-0.28150594],\n",
       "        [-0.0232136 ],\n",
       "        [ 0.21152613],\n",
       "        [-0.17094183],\n",
       "        [-0.19519544],\n",
       "        [-0.29915354],\n",
       "        [-0.11730704],\n",
       "        [ 0.2210507 ],\n",
       "        [-0.0618397 ],\n",
       "        [ 0.21462448],\n",
       "        [ 0.23200954],\n",
       "        [ 0.10970023],\n",
       "        [ 0.13699044],\n",
       "        [ 0.28040263],\n",
       "        [-0.0684481 ],\n",
       "        [-0.07072482],\n",
       "        [-0.1849859 ],\n",
       "        [-0.2209972 ],\n",
       "        [-0.08280762],\n",
       "        [-0.21869485],\n",
       "        [ 0.02138474],\n",
       "        [ 0.11940508],\n",
       "        [-0.01615281],\n",
       "        [ 0.26011997],\n",
       "        [-0.03401737],\n",
       "        [ 0.23183458],\n",
       "        [-0.04980596],\n",
       "        [ 0.21714377],\n",
       "        [ 0.12668848],\n",
       "        [ 0.40553483],\n",
       "        [ 0.28711075],\n",
       "        [-0.09052004],\n",
       "        [ 0.24254838],\n",
       "        [-0.17250845],\n",
       "        [ 0.13738057],\n",
       "        [ 0.18401212],\n",
       "        [ 0.15634508],\n",
       "        [-0.34111297],\n",
       "        [ 0.0793629 ],\n",
       "        [ 0.09433326],\n",
       "        [-0.21917869],\n",
       "        [ 0.3299748 ],\n",
       "        [-0.1769206 ],\n",
       "        [-0.20841035],\n",
       "        [-0.10151263],\n",
       "        [ 0.19445336]], dtype=float32),\n",
       " array([-0.28669408], dtype=float32)]"
      ]
     },
     "execution_count": 6,
     "metadata": {},
     "output_type": "execute_result"
    }
   ],
   "source": [
    "model.get_weights()"
   ]
  },
  {
   "cell_type": "code",
   "execution_count": 7,
   "id": "ec670f79",
   "metadata": {},
   "outputs": [],
   "source": [
    "def decode_review(text):\n",
    "    return ' '.join(\n",
    "        reverse_word_index.get(i - 3, '?') for i in text\n",
    "    )\n",
    "\n",
    "def preprocess_review(text):\n",
    "    text = text.lower().split()\n",
    "    encoded_review = [word_index.get(word, 2)+3 for word in text]\n",
    "    padded_review = pad_sequences([encoded_review], maxlen=500)\n",
    "    return padded_review"
   ]
  },
  {
   "cell_type": "code",
   "execution_count": 8,
   "id": "abd9ab77",
   "metadata": {},
   "outputs": [],
   "source": [
    "# prediction function\n",
    "def predict_sentiment(review):\n",
    "    preprocessd_input = preprocess_review(review)\n",
    "    model.predict(preprocessd_input)\n",
    "    prediction = model.predict(preprocessd_input)[0][0]\n",
    "    sentiment = 'positive' if prediction > 0.5 else 'negative'\n",
    "    return sentiment, prediction"
   ]
  },
  {
   "cell_type": "code",
   "execution_count": 15,
   "id": "f2c9cd0c",
   "metadata": {},
   "outputs": [
    {
     "name": "stdout",
     "output_type": "stream",
     "text": [
      "\u001b[1m1/1\u001b[0m \u001b[32m━━━━━━━━━━━━━━━━━━━━\u001b[0m\u001b[37m\u001b[0m \u001b[1m0s\u001b[0m 60ms/step\n",
      "\u001b[1m1/1\u001b[0m \u001b[32m━━━━━━━━━━━━━━━━━━━━\u001b[0m\u001b[37m\u001b[0m \u001b[1m0s\u001b[0m 107ms/step\n",
      "Review: This movie was fantastic! I loved it.\n",
      "Sentiment: positive\n",
      "Score: 0.9127\n"
     ]
    }
   ],
   "source": [
    "sample_review = \"This movie was fantastic! I loved it.\"\n",
    "sentiment, score = predict_sentiment(sample_review)\n",
    "print(f\"Review: {sample_review}\")\n",
    "print(f\"Sentiment: {sentiment}\")\n",
    "print(f\"Score: {score:.4f}\")"
   ]
  },
  {
   "cell_type": "code",
   "execution_count": null,
   "id": "778022b3",
   "metadata": {},
   "outputs": [],
   "source": []
  }
 ],
 "metadata": {
  "kernelspec": {
   "display_name": "env",
   "language": "python",
   "name": "python3"
  },
  "language_info": {
   "codemirror_mode": {
    "name": "ipython",
    "version": 3
   },
   "file_extension": ".py",
   "mimetype": "text/x-python",
   "name": "python",
   "nbconvert_exporter": "python",
   "pygments_lexer": "ipython3",
   "version": "3.12.3"
  }
 },
 "nbformat": 4,
 "nbformat_minor": 5
}
