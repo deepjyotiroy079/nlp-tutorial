{
 "cells": [
  {
   "cell_type": "code",
   "execution_count": 26,
   "id": "35409cfc",
   "metadata": {},
   "outputs": [],
   "source": [
    "import tensorflow as tf\n",
    "from tensorflow.keras.models import load_model\n",
    "from tensorflow.keras.datasets import imdb\n",
    "from tensorflow.keras.preprocessing import sequence\n",
    "from tensorflow.keras.models import Sequential\n",
    "from tensorflow.keras.layers import Embedding, SimpleRNN, Dense"
   ]
  },
  {
   "cell_type": "code",
   "execution_count": 27,
   "id": "52f8ff35",
   "metadata": {},
   "outputs": [],
   "source": [
    "# load the word index\n",
    "word_index = imdb.get_word_index()\n",
    "\n",
    "# reverse the word index to get words from indices\n",
    "reverse_word_index = dict([(value, key) for (key, value) in word_index.items()])"
   ]
  },
  {
   "cell_type": "code",
   "execution_count": 28,
   "id": "7989bbbf",
   "metadata": {},
   "outputs": [
    {
     "name": "stderr",
     "output_type": "stream",
     "text": [
      "WARNING:absl:Compiled the loaded model, but the compiled metrics have yet to be built. `model.compile_metrics` will be empty until you train or evaluate the model.\n"
     ]
    },
    {
     "data": {
      "text/html": [
       "<pre style=\"white-space:pre;overflow-x:auto;line-height:normal;font-family:Menlo,'DejaVu Sans Mono',consolas,'Courier New',monospace\"><span style=\"font-weight: bold\">Model: \"sequential_1\"</span>\n",
       "</pre>\n"
      ],
      "text/plain": [
       "\u001b[1mModel: \"sequential_1\"\u001b[0m\n"
      ]
     },
     "metadata": {},
     "output_type": "display_data"
    },
    {
     "data": {
      "text/html": [
       "<pre style=\"white-space:pre;overflow-x:auto;line-height:normal;font-family:Menlo,'DejaVu Sans Mono',consolas,'Courier New',monospace\">┏━━━━━━━━━━━━━━━━━━━━━━━━━━━━━━━━━┳━━━━━━━━━━━━━━━━━━━━━━━━┳━━━━━━━━━━━━━━━┓\n",
       "┃<span style=\"font-weight: bold\"> Layer (type)                    </span>┃<span style=\"font-weight: bold\"> Output Shape           </span>┃<span style=\"font-weight: bold\">       Param # </span>┃\n",
       "┡━━━━━━━━━━━━━━━━━━━━━━━━━━━━━━━━━╇━━━━━━━━━━━━━━━━━━━━━━━━╇━━━━━━━━━━━━━━━┩\n",
       "│ embedding_1 (<span style=\"color: #0087ff; text-decoration-color: #0087ff\">Embedding</span>)         │ (<span style=\"color: #00af00; text-decoration-color: #00af00\">32</span>, <span style=\"color: #00af00; text-decoration-color: #00af00\">500</span>, <span style=\"color: #00af00; text-decoration-color: #00af00\">128</span>)         │     <span style=\"color: #00af00; text-decoration-color: #00af00\">1,280,000</span> │\n",
       "├─────────────────────────────────┼────────────────────────┼───────────────┤\n",
       "│ simple_rnn_1 (<span style=\"color: #0087ff; text-decoration-color: #0087ff\">SimpleRNN</span>)        │ (<span style=\"color: #00af00; text-decoration-color: #00af00\">32</span>, <span style=\"color: #00af00; text-decoration-color: #00af00\">128</span>)              │        <span style=\"color: #00af00; text-decoration-color: #00af00\">32,896</span> │\n",
       "├─────────────────────────────────┼────────────────────────┼───────────────┤\n",
       "│ dense_1 (<span style=\"color: #0087ff; text-decoration-color: #0087ff\">Dense</span>)                 │ (<span style=\"color: #00af00; text-decoration-color: #00af00\">32</span>, <span style=\"color: #00af00; text-decoration-color: #00af00\">1</span>)                │           <span style=\"color: #00af00; text-decoration-color: #00af00\">129</span> │\n",
       "└─────────────────────────────────┴────────────────────────┴───────────────┘\n",
       "</pre>\n"
      ],
      "text/plain": [
       "┏━━━━━━━━━━━━━━━━━━━━━━━━━━━━━━━━━┳━━━━━━━━━━━━━━━━━━━━━━━━┳━━━━━━━━━━━━━━━┓\n",
       "┃\u001b[1m \u001b[0m\u001b[1mLayer (type)                   \u001b[0m\u001b[1m \u001b[0m┃\u001b[1m \u001b[0m\u001b[1mOutput Shape          \u001b[0m\u001b[1m \u001b[0m┃\u001b[1m \u001b[0m\u001b[1m      Param #\u001b[0m\u001b[1m \u001b[0m┃\n",
       "┡━━━━━━━━━━━━━━━━━━━━━━━━━━━━━━━━━╇━━━━━━━━━━━━━━━━━━━━━━━━╇━━━━━━━━━━━━━━━┩\n",
       "│ embedding_1 (\u001b[38;5;33mEmbedding\u001b[0m)         │ (\u001b[38;5;34m32\u001b[0m, \u001b[38;5;34m500\u001b[0m, \u001b[38;5;34m128\u001b[0m)         │     \u001b[38;5;34m1,280,000\u001b[0m │\n",
       "├─────────────────────────────────┼────────────────────────┼───────────────┤\n",
       "│ simple_rnn_1 (\u001b[38;5;33mSimpleRNN\u001b[0m)        │ (\u001b[38;5;34m32\u001b[0m, \u001b[38;5;34m128\u001b[0m)              │        \u001b[38;5;34m32,896\u001b[0m │\n",
       "├─────────────────────────────────┼────────────────────────┼───────────────┤\n",
       "│ dense_1 (\u001b[38;5;33mDense\u001b[0m)                 │ (\u001b[38;5;34m32\u001b[0m, \u001b[38;5;34m1\u001b[0m)                │           \u001b[38;5;34m129\u001b[0m │\n",
       "└─────────────────────────────────┴────────────────────────┴───────────────┘\n"
      ]
     },
     "metadata": {},
     "output_type": "display_data"
    },
    {
     "data": {
      "text/html": [
       "<pre style=\"white-space:pre;overflow-x:auto;line-height:normal;font-family:Menlo,'DejaVu Sans Mono',consolas,'Courier New',monospace\"><span style=\"font-weight: bold\"> Total params: </span><span style=\"color: #00af00; text-decoration-color: #00af00\">1,313,027</span> (5.01 MB)\n",
       "</pre>\n"
      ],
      "text/plain": [
       "\u001b[1m Total params: \u001b[0m\u001b[38;5;34m1,313,027\u001b[0m (5.01 MB)\n"
      ]
     },
     "metadata": {},
     "output_type": "display_data"
    },
    {
     "data": {
      "text/html": [
       "<pre style=\"white-space:pre;overflow-x:auto;line-height:normal;font-family:Menlo,'DejaVu Sans Mono',consolas,'Courier New',monospace\"><span style=\"font-weight: bold\"> Trainable params: </span><span style=\"color: #00af00; text-decoration-color: #00af00\">1,313,025</span> (5.01 MB)\n",
       "</pre>\n"
      ],
      "text/plain": [
       "\u001b[1m Trainable params: \u001b[0m\u001b[38;5;34m1,313,025\u001b[0m (5.01 MB)\n"
      ]
     },
     "metadata": {},
     "output_type": "display_data"
    },
    {
     "data": {
      "text/html": [
       "<pre style=\"white-space:pre;overflow-x:auto;line-height:normal;font-family:Menlo,'DejaVu Sans Mono',consolas,'Courier New',monospace\"><span style=\"font-weight: bold\"> Non-trainable params: </span><span style=\"color: #00af00; text-decoration-color: #00af00\">0</span> (0.00 B)\n",
       "</pre>\n"
      ],
      "text/plain": [
       "\u001b[1m Non-trainable params: \u001b[0m\u001b[38;5;34m0\u001b[0m (0.00 B)\n"
      ]
     },
     "metadata": {},
     "output_type": "display_data"
    },
    {
     "data": {
      "text/html": [
       "<pre style=\"white-space:pre;overflow-x:auto;line-height:normal;font-family:Menlo,'DejaVu Sans Mono',consolas,'Courier New',monospace\"><span style=\"font-weight: bold\"> Optimizer params: </span><span style=\"color: #00af00; text-decoration-color: #00af00\">2</span> (12.00 B)\n",
       "</pre>\n"
      ],
      "text/plain": [
       "\u001b[1m Optimizer params: \u001b[0m\u001b[38;5;34m2\u001b[0m (12.00 B)\n"
      ]
     },
     "metadata": {},
     "output_type": "display_data"
    }
   ],
   "source": [
    "# load the pre-trained model\n",
    "model = load_model('imdb_rnn_model.h5')\n",
    "\n",
    "model.summary()"
   ]
  },
  {
   "cell_type": "code",
   "execution_count": 8,
   "id": "11b5890c",
   "metadata": {},
   "outputs": [
    {
     "data": {
      "text/plain": [
       "[array([[ 0.00724186, -0.12268964, -0.08626283, ...,  0.01204436,\n",
       "         -0.05747947, -0.07726263],\n",
       "        [ 0.04693659, -0.15032066, -0.02686106, ..., -0.0912238 ,\n",
       "         -0.05869718, -0.05129045],\n",
       "        [ 0.0282454 ,  0.04464116, -0.03296026, ..., -0.05349113,\n",
       "         -0.00223088,  0.0146606 ],\n",
       "        ...,\n",
       "        [-0.06289903,  0.03102721,  0.08401418, ...,  0.0408077 ,\n",
       "         -0.04627756,  0.11331426],\n",
       "        [-0.02493133, -0.04643836,  0.02142882, ...,  0.02650878,\n",
       "          0.02335212,  0.05903342],\n",
       "        [-0.08206429,  0.03309351,  0.05952106, ...,  0.04084812,\n",
       "          0.13901347,  0.06331932]], dtype=float32),\n",
       " array([[ 0.03993824, -0.14991395, -0.20228474, ...,  0.05535531,\n",
       "         -0.11503243, -0.05274075],\n",
       "        [ 0.02308341,  0.08644471,  0.01756303, ..., -0.05332104,\n",
       "         -0.0917924 ,  0.08626275],\n",
       "        [-0.04340224,  0.04497775, -0.26006493, ..., -0.00545241,\n",
       "          0.01909512,  0.08361913],\n",
       "        ...,\n",
       "        [ 0.05164064,  0.12161523, -0.16714862, ..., -0.10869272,\n",
       "          0.16415797, -0.05654827],\n",
       "        [-0.0453907 , -0.11014464,  0.0491276 , ..., -0.00376167,\n",
       "         -0.0699875 , -0.13182431],\n",
       "        [ 0.0667922 ,  0.1312489 ,  0.10263929, ...,  0.09519868,\n",
       "          0.04970043,  0.06688066]], dtype=float32),\n",
       " array([[ 0.041754  , -0.14115155, -0.00953554, ..., -0.07381766,\n",
       "          0.07572985,  0.0251227 ],\n",
       "        [ 0.086191  ,  0.05365879, -0.04838609, ..., -0.08289642,\n",
       "         -0.00373032, -0.07856566],\n",
       "        [-0.0397984 , -0.16837613,  0.10592377, ...,  0.01354219,\n",
       "          0.02375017,  0.07519987],\n",
       "        ...,\n",
       "        [ 0.15187135, -0.0156245 ,  0.09418388, ..., -0.13027468,\n",
       "         -0.06139777, -0.06615278],\n",
       "        [ 0.09961279,  0.08254486, -0.00159843, ...,  0.1419077 ,\n",
       "         -0.08072557, -0.07899364],\n",
       "        [-0.0393585 , -0.02538108, -0.13546132, ..., -0.2134133 ,\n",
       "         -0.13264495,  0.15707016]], dtype=float32),\n",
       " array([-0.03423559, -0.00688013,  0.05369389,  0.08191449,  0.04172573,\n",
       "        -0.00316605, -0.00318166, -0.02885673,  0.04508169,  0.01105444,\n",
       "         0.00121724,  0.00909772,  0.03946238,  0.00726878, -0.04212219,\n",
       "         0.03972522, -0.0135193 ,  0.04170927, -0.00802911,  0.0078941 ,\n",
       "        -0.06303699,  0.02748382, -0.00867517, -0.07654296, -0.00490599,\n",
       "        -0.02313754,  0.01562062,  0.03606266, -0.02540131,  0.02982227,\n",
       "        -0.02379809, -0.0321893 ,  0.02810357,  0.01776875, -0.04842992,\n",
       "         0.03491502,  0.02146774,  0.00741362, -0.00188617,  0.01038398,\n",
       "         0.03614944,  0.02364916, -0.03296589, -0.04289909,  0.0360561 ,\n",
       "         0.03876928,  0.00983149,  0.05590483,  0.02448561, -0.00020718,\n",
       "         0.03696334,  0.02542853,  0.01453241,  0.03492986,  0.00199762,\n",
       "        -0.01836098,  0.01517746,  0.03565281, -0.00520088, -0.00042792,\n",
       "        -0.04929988,  0.04327143, -0.00505382, -0.04808565,  0.01122365,\n",
       "        -0.0375288 ,  0.00660558, -0.00554584, -0.02286521,  0.04742487,\n",
       "        -0.0269403 , -0.02209417,  0.03119764,  0.00406275,  0.00668615,\n",
       "        -0.02162689,  0.04549198,  0.05119061,  0.04858655,  0.02118067,\n",
       "         0.03276527,  0.04424202, -0.00374704, -0.04609766, -0.01718438,\n",
       "        -0.05027657, -0.00453508,  0.01890066, -0.03442024,  0.01097191,\n",
       "         0.02757031, -0.00950317,  0.01594046, -0.05120477, -0.05637822,\n",
       "        -0.04483548, -0.02815708, -0.01816676,  0.03152715, -0.03033032,\n",
       "        -0.05719219,  0.03482232, -0.05109085, -0.01537891, -0.00788357,\n",
       "        -0.05102568, -0.00150817, -0.00660715,  0.0144917 ,  0.02050696,\n",
       "        -0.00151756, -0.01606881,  0.00380009, -0.01823289,  0.04876992,\n",
       "        -0.01747331, -0.00253047,  0.07536703,  0.01014394,  0.07284257,\n",
       "         0.03563605,  0.02944527, -0.03962326, -0.03087663,  0.02755718,\n",
       "         0.01308064,  0.01068939,  0.03400118], dtype=float32),\n",
       " array([[-1.64591193e-01],\n",
       "        [ 2.01728761e-01],\n",
       "        [-1.49324447e-01],\n",
       "        [ 9.84293148e-02],\n",
       "        [ 6.58903271e-02],\n",
       "        [ 1.30051255e-01],\n",
       "        [-1.99061692e-01],\n",
       "        [ 3.41467708e-02],\n",
       "        [ 1.88112304e-01],\n",
       "        [ 6.72582909e-02],\n",
       "        [ 8.22647363e-02],\n",
       "        [-6.87420517e-02],\n",
       "        [ 2.62718171e-01],\n",
       "        [-2.50375599e-01],\n",
       "        [-4.06944007e-01],\n",
       "        [ 1.73664406e-01],\n",
       "        [-2.88427584e-02],\n",
       "        [-1.51785955e-01],\n",
       "        [-6.86273053e-02],\n",
       "        [ 7.54253030e-01],\n",
       "        [ 1.72872275e-01],\n",
       "        [ 2.07525998e-01],\n",
       "        [ 1.94574013e-01],\n",
       "        [ 4.97746207e-02],\n",
       "        [ 5.17443791e-02],\n",
       "        [ 1.91724271e-01],\n",
       "        [ 3.27564180e-02],\n",
       "        [ 2.16840982e-01],\n",
       "        [ 6.04386255e-02],\n",
       "        [ 1.77134588e-01],\n",
       "        [-1.60611153e-01],\n",
       "        [ 8.42508003e-02],\n",
       "        [-2.52194434e-01],\n",
       "        [ 2.00953353e-02],\n",
       "        [-4.64266539e-02],\n",
       "        [ 1.27828643e-01],\n",
       "        [ 8.61357152e-02],\n",
       "        [-1.96903706e-01],\n",
       "        [-2.42748454e-01],\n",
       "        [-1.01438753e-01],\n",
       "        [ 4.75264937e-01],\n",
       "        [ 3.90593141e-01],\n",
       "        [ 4.49056737e-02],\n",
       "        [-6.30892590e-02],\n",
       "        [-1.68464571e-01],\n",
       "        [-1.98524043e-01],\n",
       "        [-1.06436610e-01],\n",
       "        [ 3.08782458e-01],\n",
       "        [ 2.29421183e-01],\n",
       "        [ 2.47482896e-01],\n",
       "        [-1.76794589e-01],\n",
       "        [-3.33034635e-01],\n",
       "        [ 1.57681093e-01],\n",
       "        [-1.48139209e-01],\n",
       "        [ 3.78666334e-02],\n",
       "        [-1.63709655e-01],\n",
       "        [ 2.22182512e-01],\n",
       "        [ 4.85827923e-02],\n",
       "        [ 3.21428478e-01],\n",
       "        [-2.51291990e-01],\n",
       "        [-1.24933153e-01],\n",
       "        [-5.77683412e-02],\n",
       "        [-5.40022254e-02],\n",
       "        [ 1.57882087e-02],\n",
       "        [ 9.96811092e-02],\n",
       "        [-2.82740481e-02],\n",
       "        [-2.93561101e-01],\n",
       "        [ 6.10389635e-02],\n",
       "        [-2.91955136e-02],\n",
       "        [ 2.62279920e-02],\n",
       "        [-1.58679828e-01],\n",
       "        [-1.60562769e-01],\n",
       "        [-1.07860073e-01],\n",
       "        [-3.85535620e-02],\n",
       "        [ 7.77289346e-02],\n",
       "        [ 1.09730035e-01],\n",
       "        [-1.25400014e-02],\n",
       "        [-1.17703982e-01],\n",
       "        [ 7.84113407e-02],\n",
       "        [ 1.43662795e-01],\n",
       "        [ 2.47514740e-01],\n",
       "        [-5.65601396e-04],\n",
       "        [ 1.48354024e-02],\n",
       "        [ 1.36833727e-01],\n",
       "        [ 1.97583467e-01],\n",
       "        [-4.83301543e-02],\n",
       "        [ 1.89406037e-01],\n",
       "        [ 4.95386459e-02],\n",
       "        [ 1.01429038e-01],\n",
       "        [-1.33978814e-01],\n",
       "        [-2.46095642e-01],\n",
       "        [-1.71729699e-01],\n",
       "        [ 2.86975447e-02],\n",
       "        [-1.37811497e-01],\n",
       "        [ 2.80285534e-02],\n",
       "        [-1.30279893e-02],\n",
       "        [ 2.53850818e-01],\n",
       "        [-3.83856334e-02],\n",
       "        [ 1.68222964e-01],\n",
       "        [-1.39074940e-02],\n",
       "        [-1.25382945e-01],\n",
       "        [-4.39024232e-02],\n",
       "        [ 2.37011567e-01],\n",
       "        [ 2.92310826e-02],\n",
       "        [ 2.33225673e-01],\n",
       "        [-7.94623643e-02],\n",
       "        [ 1.03452485e-02],\n",
       "        [ 1.61489412e-01],\n",
       "        [ 7.66400546e-02],\n",
       "        [-3.40093881e-01],\n",
       "        [ 1.46092430e-01],\n",
       "        [ 3.90550286e-01],\n",
       "        [-1.24943271e-01],\n",
       "        [-2.85176575e-01],\n",
       "        [ 7.71139376e-03],\n",
       "        [ 1.73435211e-01],\n",
       "        [ 1.49939120e-01],\n",
       "        [ 1.03560805e-01],\n",
       "        [-1.07085414e-01],\n",
       "        [-1.57006532e-01],\n",
       "        [-4.36457582e-02],\n",
       "        [-1.20923683e-01],\n",
       "        [-7.72655755e-02],\n",
       "        [ 2.73274660e-01],\n",
       "        [-2.26618916e-01],\n",
       "        [ 1.31994843e-01],\n",
       "        [ 3.49551626e-02],\n",
       "        [ 4.64269407e-02]], dtype=float32),\n",
       " array([0.06332812], dtype=float32)]"
      ]
     },
     "execution_count": 8,
     "metadata": {},
     "output_type": "execute_result"
    }
   ],
   "source": [
    "model.get_weights()  # to check the weights of the model"
   ]
  },
  {
   "cell_type": "code",
   "execution_count": 45,
   "id": "54344355",
   "metadata": {},
   "outputs": [],
   "source": [
    "# helper function to preprocess the input text\n",
    "# decode the reviews\n",
    "def decode_review(encoded_reviews):\n",
    "    return ' '.join([reverse_word_index.get(i - 3, '?') for i in encoded_reviews])\n",
    "\n",
    "# preprocess the input review\n",
    "def preprocess_text(text):\n",
    "    words = text.lower().split()\n",
    "    encoded_review = [word_index.get(word, 2) + 3 for word in words]  # 2 is the index for unknown words\n",
    "    padded_review = sequence.pad_sequences([encoded_review], maxlen=500)    # pad to the same length as training data\n",
    "    return padded_review"
   ]
  },
  {
   "cell_type": "code",
   "execution_count": 49,
   "id": "0b925495",
   "metadata": {},
   "outputs": [],
   "source": [
    "# prediction function\n",
    "def predict_sentiment(review):\n",
    "    # preprocess\n",
    "    preprocessed_input = preprocess_text(review)\n",
    "\n",
    "    prediction = model.predict(preprocessed_input)\n",
    "\n",
    "    if prediction[0][0] > 0.05:\n",
    "        sentiment = 'positive'\n",
    "    else:\n",
    "        sentiment = 'negative'\n",
    "    \n",
    "    return sentiment, prediction[0][0]"
   ]
  },
  {
   "cell_type": "code",
   "execution_count": 63,
   "id": "2e412aa6",
   "metadata": {},
   "outputs": [
    {
     "name": "stdout",
     "output_type": "stream",
     "text": [
      "\u001b[1m1/1\u001b[0m \u001b[32m━━━━━━━━━━━━━━━━━━━━\u001b[0m\u001b[37m\u001b[0m \u001b[1m0s\u001b[0m 39ms/step\n",
      "Review: The movie was very good, I really enjoyed it!\n",
      "Sentiment: positive, Score: 0.095005\n"
     ]
    }
   ],
   "source": [
    "example_review = \"The movie was very good, I really enjoyed it!\"\n",
    "sentiment, score = predict_sentiment(example_review)\n",
    "print(f\"Review: {example_review}\\nSentiment: {sentiment}, Score: {score:4f}\")\n",
    "# score"
   ]
  },
  {
   "cell_type": "code",
   "execution_count": null,
   "id": "4c09c6ac",
   "metadata": {},
   "outputs": [],
   "source": []
  }
 ],
 "metadata": {
  "kernelspec": {
   "display_name": "env",
   "language": "python",
   "name": "python3"
  },
  "language_info": {
   "codemirror_mode": {
    "name": "ipython",
    "version": 3
   },
   "file_extension": ".py",
   "mimetype": "text/x-python",
   "name": "python",
   "nbconvert_exporter": "python",
   "pygments_lexer": "ipython3",
   "version": "3.12.3"
  }
 },
 "nbformat": 4,
 "nbformat_minor": 5
}
