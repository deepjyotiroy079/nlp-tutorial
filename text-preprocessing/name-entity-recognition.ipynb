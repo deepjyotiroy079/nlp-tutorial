{
 "cells": [
  {
   "cell_type": "code",
   "execution_count": 8,
   "id": "83002632",
   "metadata": {},
   "outputs": [],
   "source": [
    "from nltk.tokenize import word_tokenize\n",
    "from nltk import pos_tag, ne_chunk"
   ]
  },
  {
   "cell_type": "code",
   "execution_count": 1,
   "id": "bda2cee1",
   "metadata": {},
   "outputs": [],
   "source": [
    "paragraph = \"\"\"The Eiffel Tower, an iconic symbol of Paris, was constructed by the company of Gustave Eiffel, a renowned French civil engineer. Completed in 1889 for the Exposition Universelle, the tower showcased the possibilities of iron as a building material and quickly became a landmark of innovation and architectural achievement. Gustave Eiffel, whose name the tower bears, oversaw the project and contributed significantly to its design and realization, cementing his legacy as one of history’s great engineers.\"\"\""
   ]
  },
  {
   "cell_type": "code",
   "execution_count": null,
   "id": "959080d6",
   "metadata": {},
   "outputs": [
    {
     "name": "stderr",
     "output_type": "stream",
     "text": [
      "[nltk_data] Downloading package maxent_ne_chunker_tab to\n",
      "[nltk_data]     C:\\Users\\deepjroy\\AppData\\Roaming\\nltk_data...\n",
      "[nltk_data]   Unzipping chunkers\\maxent_ne_chunker_tab.zip.\n"
     ]
    },
    {
     "data": {
      "text/plain": [
       "True"
      ]
     },
     "execution_count": 10,
     "metadata": {},
     "output_type": "execute_result"
    }
   ],
   "source": [
    "# download ne_chunk\n",
    "import nltk\n",
    "\n",
    "nltk.download('maxent_ne_chunker_tab')"
   ]
  },
  {
   "cell_type": "code",
   "execution_count": 12,
   "id": "4c8e655e",
   "metadata": {},
   "outputs": [],
   "source": [
    "words = word_tokenize(paragraph)\n",
    "tagged_elements = pos_tag(words)\n",
    "\n",
    "ne_chunk(tagged_elements).draw()"
   ]
  },
  {
   "cell_type": "code",
   "execution_count": null,
   "id": "45814d8e",
   "metadata": {},
   "outputs": [],
   "source": []
  }
 ],
 "metadata": {
  "kernelspec": {
   "display_name": "env",
   "language": "python",
   "name": "python3"
  },
  "language_info": {
   "codemirror_mode": {
    "name": "ipython",
    "version": 3
   },
   "file_extension": ".py",
   "mimetype": "text/x-python",
   "name": "python",
   "nbconvert_exporter": "python",
   "pygments_lexer": "ipython3",
   "version": "3.13.5"
  }
 },
 "nbformat": 4,
 "nbformat_minor": 5
}
