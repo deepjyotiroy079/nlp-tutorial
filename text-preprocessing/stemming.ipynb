{
 "cells": [
  {
   "cell_type": "code",
   "execution_count": 1,
   "id": "cc50cd5b",
   "metadata": {},
   "outputs": [],
   "source": [
    "from nltk.stem import PorterStemmer"
   ]
  },
  {
   "cell_type": "code",
   "execution_count": 6,
   "id": "fb29e5f9",
   "metadata": {},
   "outputs": [
    {
     "name": "stdout",
     "output_type": "stream",
     "text": [
      "eat --> eat\n",
      "eaten --> eaten\n",
      "ate --> ate\n",
      "eating --> eat\n",
      "trim --> trim\n",
      "trimming --> trim\n",
      "go --> go\n",
      "goblin --> goblin\n",
      "going --> go\n",
      "age --> age\n",
      "aging --> age\n"
     ]
    }
   ],
   "source": [
    "stemmer = PorterStemmer()\n",
    "\n",
    "words = [\"eat\", \"eaten\", \"ate\", \"eating\", \"trim\", \"trimming\", \"go\", \"goblin\", \"going\", \"age\", \"aging\"]\n",
    "for word in words:\n",
    "    print(f'{word} --> {stemmer.stem(word)}')"
   ]
  },
  {
   "cell_type": "code",
   "execution_count": 8,
   "id": "b5302159",
   "metadata": {},
   "outputs": [
    {
     "name": "stdout",
     "output_type": "stream",
     "text": [
      "eat --> eat\n",
      "eaten --> eaten\n",
      "ate --> ate\n",
      "eating --> eat\n",
      "trim --> trim\n",
      "trimming --> trimm\n",
      "go --> go\n",
      "goblin --> goblin\n",
      "going --> go\n",
      "age --> age\n",
      "aging --> ag\n"
     ]
    }
   ],
   "source": [
    "from nltk.stem import RegexpStemmer\n",
    "\n",
    "reg_stemmer = RegexpStemmer('ing$|s$|e$|able$', min=4)\n",
    "\n",
    "for word in words:\n",
    "    print(f'{word} --> {reg_stemmer.stem(word)}')\n"
   ]
  },
  {
   "cell_type": "code",
   "execution_count": null,
   "id": "6e30f6d3",
   "metadata": {},
   "outputs": [
    {
     "name": "stdout",
     "output_type": "stream",
     "text": [
      "eat --> eat\n",
      "eaten --> eaten\n",
      "ate --> ate\n",
      "eating --> eat\n",
      "trim --> trim\n",
      "trimming --> trim\n",
      "go --> go\n",
      "goblin --> goblin\n",
      "going --> go\n",
      "age --> age\n",
      "aging --> age\n"
     ]
    }
   ],
   "source": [
    "from nltk.stem import SnowballStemmer\n",
    "# slightly better than Porter stemmer\n",
    "snowball_stemmer = SnowballStemmer(language='english')\n",
    "\n",
    "for word in words:\n",
    "    print(f'{word} --> {snowball_stemmer.stem(word)}')"
   ]
  },
  {
   "cell_type": "code",
   "execution_count": null,
   "id": "612317f1",
   "metadata": {},
   "outputs": [],
   "source": []
  }
 ],
 "metadata": {
  "kernelspec": {
   "display_name": "env",
   "language": "python",
   "name": "python3"
  },
  "language_info": {
   "codemirror_mode": {
    "name": "ipython",
    "version": 3
   },
   "file_extension": ".py",
   "mimetype": "text/x-python",
   "name": "python",
   "nbconvert_exporter": "python",
   "pygments_lexer": "ipython3",
   "version": "3.13.5"
  }
 },
 "nbformat": 4,
 "nbformat_minor": 5
}
