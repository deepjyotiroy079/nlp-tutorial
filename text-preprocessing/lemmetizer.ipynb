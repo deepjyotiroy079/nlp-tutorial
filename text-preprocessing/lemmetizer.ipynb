{
 "cells": [
  {
   "cell_type": "code",
   "execution_count": 2,
   "id": "790c271c",
   "metadata": {},
   "outputs": [],
   "source": [
    "from nltk.stem import WordNetLemmatizer"
   ]
  },
  {
   "cell_type": "code",
   "execution_count": 3,
   "id": "eaef2e21",
   "metadata": {},
   "outputs": [],
   "source": [
    "lemmetizer = WordNetLemmatizer()"
   ]
  },
  {
   "cell_type": "code",
   "execution_count": 10,
   "id": "5fc9a034",
   "metadata": {},
   "outputs": [
    {
     "name": "stdout",
     "output_type": "stream",
     "text": [
      "eat --> eat\n",
      "eaten --> eat\n",
      "ate --> eat\n",
      "eating --> eat\n",
      "trim --> trim\n",
      "trimming --> trim\n",
      "go --> go\n",
      "goblin --> goblin\n",
      "fairly --> fairly\n",
      "going --> go\n",
      "age --> age\n",
      "aging --> age\n"
     ]
    }
   ],
   "source": [
    "words = [\"eat\", \"eaten\", \"ate\", \"eating\", \"trim\", \"trimming\", \"go\", \"goblin\", \"fairly\", \"going\", \"age\", \"aging\"]\n",
    "\n",
    "for word in words:\n",
    "    print(f\"{word} --> {lemmetizer.lemmatize(word, pos='v')}\")"
   ]
  },
  {
   "cell_type": "markdown",
   "id": "4e944943",
   "metadata": {},
   "source": [
    "## Lemmatizer pos variable\n",
    "- Noun - 'n'\n",
    "- Adverb - 'r'\n",
    "- Adjective - 'a'\n",
    "- Verb - 'v'"
   ]
  }
 ],
 "metadata": {
  "kernelspec": {
   "display_name": "env",
   "language": "python",
   "name": "python3"
  },
  "language_info": {
   "codemirror_mode": {
    "name": "ipython",
    "version": 3
   },
   "file_extension": ".py",
   "mimetype": "text/x-python",
   "name": "python",
   "nbconvert_exporter": "python",
   "pygments_lexer": "ipython3",
   "version": "3.13.5"
  }
 },
 "nbformat": 4,
 "nbformat_minor": 5
}
