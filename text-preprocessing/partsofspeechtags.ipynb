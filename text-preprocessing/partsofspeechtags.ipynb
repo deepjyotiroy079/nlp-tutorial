{
 "cells": [
  {
   "cell_type": "markdown",
   "id": "f35df255",
   "metadata": {},
   "source": [
    "| Tag   | Meaning                              | Example                  |\n",
    "|-------|--------------------------------------|--------------------------|\n",
    "| CC    | Coordinating conjunction             | and, but, or             |\n",
    "| CD    | Cardinal number                      | one, two, 2              |\n",
    "| DT    | Determiner                           | the, a, an               |\n",
    "| EX    | Existential there                    | there (is, are)          |\n",
    "| FW    | Foreign word                         | d’hoevre                 |\n",
    "| IN    | Preposition/subordinating conjunction| in, of, like, after      |\n",
    "| JJ    | Adjective                            | big, blue, quick         |\n",
    "| JJR   | Adjective, comparative               | bigger, faster           |\n",
    "| JJS   | Adjective, superlative               | biggest, fastest         |\n",
    "| LS    | List item marker                     | 1), a)                   |\n",
    "| MD    | Modal                                | can, should, will        |\n",
    "| NN    | Noun, singular or mass               | dog, car                 |\n",
    "| NNS   | Noun, plural                         | dogs, cars               |\n",
    "| NNP   | Proper noun, singular                | John, London             |\n",
    "| NNPS  | Proper noun, plural                  | Vikings, Indians         |\n",
    "| PDT   | Predeterminer                        | all, both, half          |\n",
    "| POS   | Possessive ending                    | ’s, ’                    |\n",
    "| PRP   | Personal pronoun                     | I, he, she               |\n",
    "| PRP$  | Possessive pronoun                   | my, his, her             |\n",
    "| RB    | Adverb                               | quickly, silently        |\n",
    "| RBR   | Adverb, comparative                  | faster                   |\n",
    "| RBS   | Adverb, superlative                  | fastest                  |\n",
    "| RP    | Particle                             | up, off                  |\n",
    "| SYM   | Symbol                               | $, %, &                  |\n",
    "| TO    | to                                   | to (go, run)             |\n",
    "| UH    | Interjection                         | uh, wow, oops            |\n",
    "| VB    | Verb, base form                      | take                     |\n",
    "| VBD   | Verb, past tense                     | took                     |\n",
    "| VBG   | Verb, gerund/present participle      | taking                   |\n",
    "| VBN   | Verb, past participle                | taken                    |\n",
    "| VBP   | Verb, non-3rd person singular present| take                     |\n",
    "| VBZ   | Verb, 3rd person singular present    | takes                    |\n",
    "| WDT   | Wh-determiner                        | which, that              |\n",
    "| WP    | Wh-pronoun                           | who, what                |\n",
    "| WP$   | Possessive wh-pronoun                | whose                    |\n",
    "| WRB   | Wh-adverb                            | where, when              |\n",
    "| #     | Pound sign                           | #                        |\n",
    "| $     | Dollar sign                          | $                        |\n",
    "| .     | Sentence-final punctuation           | .                        |\n",
    "| ,     | Comma                                | ,                        |\n",
    "| :     | Colon, semi-colon                    | : ;                      |\n",
    "| (     | Left parenthesis                     | (                        |\n",
    "| )     | Right parenthesis                    | )                        |\n",
    "| ``    | Opening quotation mark               | ``                       |\n",
    "| ''    | Closing quotation mark               | ''                       |\n"
   ]
  },
  {
   "cell_type": "code",
   "execution_count": 9,
   "id": "d38597f4",
   "metadata": {},
   "outputs": [],
   "source": [
    "from nltk.corpus import stopwords\n",
    "from nltk.tokenize import sent_tokenize, word_tokenize\n",
    "from nltk import pos_tag\n",
    "\n",
    "paragraph = \"\"\"Friends, I am delighted to address you all, in the country and those living abroad, after working with you and completing five beautiful and eventful years in Rashtrapati Bhavan. Today, it is indeed a thanks giving occasion. I would like to narrate, how I enjoyed every minute of my tenure enriched by the wonderful association from each one of you, hailing from different walks of life, be it politics, science and technology, academics, arts, literature, business, judiciary, administration, local bodies, farming, home makers, special children, media and above all from the youth and student community who are the future wealth of our country.\"\"\""
   ]
  },
  {
   "cell_type": "code",
   "execution_count": 11,
   "id": "bc9f2b2c",
   "metadata": {},
   "outputs": [
    {
     "data": {
      "text/plain": [
       "['Friends, I am delighted to address you all, in the country and those living abroad, after working with you and completing five beautiful and eventful years in Rashtrapati Bhavan.',\n",
       " 'Today, it is indeed a thanks giving occasion.',\n",
       " 'I would like to narrate, how I enjoyed every minute of my tenure enriched by the wonderful association from each one of you, hailing from different walks of life, be it politics, science and technology, academics, arts, literature, business, judiciary, administration, local bodies, farming, home makers, special children, media and above all from the youth and student community who are the future wealth of our country.']"
      ]
     },
     "execution_count": 11,
     "metadata": {},
     "output_type": "execute_result"
    }
   ],
   "source": [
    "# create sentenses\n",
    "sentences = sent_tokenize(paragraph)\n",
    "\n",
    "sentences"
   ]
  },
  {
   "cell_type": "code",
   "execution_count": null,
   "id": "a47fcca0",
   "metadata": {},
   "outputs": [
    {
     "name": "stderr",
     "output_type": "stream",
     "text": [
      "[nltk_data] Downloading package averaged_perceptron_tagger_eng to\n",
      "[nltk_data]     C:\\Users\\deepjroy\\AppData\\Roaming\\nltk_data...\n",
      "[nltk_data]   Unzipping taggers\\averaged_perceptron_tagger_eng.zip.\n"
     ]
    },
    {
     "data": {
      "text/plain": [
       "True"
      ]
     },
     "execution_count": 15,
     "metadata": {},
     "output_type": "execute_result"
    }
   ],
   "source": [
    "# # Download\n",
    "# import nltk\n",
    "# nltk.download('averaged_perceptron_tagger_eng')"
   ]
  },
  {
   "cell_type": "code",
   "execution_count": 16,
   "id": "0db65fe7",
   "metadata": {},
   "outputs": [
    {
     "name": "stdout",
     "output_type": "stream",
     "text": [
      "[('Friends', 'NNS'), (',', ','), ('I', 'PRP'), ('delighted', 'VBD'), ('address', 'NN'), (',', ','), ('country', 'NN'), ('living', 'VBG'), ('abroad', 'RB'), (',', ','), ('working', 'VBG'), ('completing', 'VBG'), ('five', 'CD'), ('beautiful', 'JJ'), ('eventful', 'JJ'), ('years', 'NNS'), ('Rashtrapati', 'NNP'), ('Bhavan', 'NNP'), ('.', '.')]\n",
      "[('Today', 'NN'), (',', ','), ('indeed', 'RB'), ('thanks', 'NNS'), ('giving', 'VBG'), ('occasion', 'NN'), ('.', '.')]\n",
      "[('I', 'PRP'), ('would', 'MD'), ('like', 'VB'), ('narrate', 'NN'), (',', ','), ('I', 'PRP'), ('enjoyed', 'VBP'), ('every', 'DT'), ('minute', 'NN'), ('tenure', 'NN'), ('enriched', 'VBD'), ('wonderful', 'JJ'), ('association', 'NN'), ('one', 'CD'), (',', ','), ('hailing', 'VBG'), ('different', 'JJ'), ('walks', 'NNS'), ('life', 'NN'), (',', ','), ('politics', 'NNS'), (',', ','), ('science', 'NN'), ('technology', 'NN'), (',', ','), ('academics', 'NNS'), (',', ','), ('arts', 'NNS'), (',', ','), ('literature', 'NN'), (',', ','), ('business', 'NN'), (',', ','), ('judiciary', 'NN'), (',', ','), ('administration', 'NN'), (',', ','), ('local', 'JJ'), ('bodies', 'NNS'), (',', ','), ('farming', 'NN'), (',', ','), ('home', 'NN'), ('makers', 'NNS'), (',', ','), ('special', 'JJ'), ('children', 'NNS'), (',', ','), ('media', 'NNS'), ('youth', 'VBP'), ('student', 'NN'), ('community', 'NN'), ('future', 'JJ'), ('wealth', 'NN'), ('country', 'NN'), ('.', '.')]\n"
     ]
    }
   ],
   "source": [
    "for i in range(len(sentences)):\n",
    "    words = word_tokenize(sentences[i])\n",
    "    words = [word for word in words if word not in stopwords.words('english')]\n",
    "    print(pos_tag(words))"
   ]
  },
  {
   "cell_type": "code",
   "execution_count": 19,
   "id": "818fea09",
   "metadata": {},
   "outputs": [
    {
     "data": {
      "text/plain": [
       "[('Taj', 'NNP'), ('Mahal', 'NNP'), ('is', 'VBZ'), ('beautiful', 'JJ')]"
      ]
     },
     "execution_count": 19,
     "metadata": {},
     "output_type": "execute_result"
    }
   ],
   "source": [
    "test_1 = \"Taj Mahal is beautiful\"\n",
    "\n",
    "words = word_tokenize(test_1)\n",
    "\n",
    "words = [word for word in words]\n",
    "\n",
    "pos_tag(words)"
   ]
  },
  {
   "cell_type": "code",
   "execution_count": null,
   "id": "6d0a1c64",
   "metadata": {},
   "outputs": [],
   "source": []
  }
 ],
 "metadata": {
  "kernelspec": {
   "display_name": "env",
   "language": "python",
   "name": "python3"
  },
  "language_info": {
   "codemirror_mode": {
    "name": "ipython",
    "version": 3
   },
   "file_extension": ".py",
   "mimetype": "text/x-python",
   "name": "python",
   "nbconvert_exporter": "python",
   "pygments_lexer": "ipython3",
   "version": "3.13.5"
  }
 },
 "nbformat": 4,
 "nbformat_minor": 5
}
